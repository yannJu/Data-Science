{
  "nbformat": 4,
  "nbformat_minor": 0,
  "metadata": {
    "colab": {
      "name": "h07_이연주_20191644.ipynb",
      "provenance": []
    },
    "kernelspec": {
      "display_name": "Python 3",
      "name": "python3"
    },
    "widgets": {
      "application/vnd.jupyter.widget-state+json": {
        "4938ea36a0a940239fa1424d025abb5d": {
          "model_module": "@jupyter-widgets/controls",
          "model_name": "HBoxModel",
          "state": {
            "_view_name": "HBoxView",
            "_dom_classes": [],
            "_model_name": "HBoxModel",
            "_view_module": "@jupyter-widgets/controls",
            "_model_module_version": "1.5.0",
            "_view_count": null,
            "_view_module_version": "1.5.0",
            "box_style": "",
            "layout": "IPY_MODEL_c11ba1881b7f4256bfe7bf7843786267",
            "_model_module": "@jupyter-widgets/controls",
            "children": [
              "IPY_MODEL_89868cd3bd814ddabb0c31232fccd644",
              "IPY_MODEL_0fbd6bbe47954f28b628d688b8fc8cf6"
            ]
          }
        },
        "c11ba1881b7f4256bfe7bf7843786267": {
          "model_module": "@jupyter-widgets/base",
          "model_name": "LayoutModel",
          "state": {
            "_view_name": "LayoutView",
            "grid_template_rows": null,
            "right": null,
            "justify_content": null,
            "_view_module": "@jupyter-widgets/base",
            "overflow": null,
            "_model_module_version": "1.2.0",
            "_view_count": null,
            "flex_flow": null,
            "width": null,
            "min_width": null,
            "border": null,
            "align_items": null,
            "bottom": null,
            "_model_module": "@jupyter-widgets/base",
            "top": null,
            "grid_column": null,
            "overflow_y": null,
            "overflow_x": null,
            "grid_auto_flow": null,
            "grid_area": null,
            "grid_template_columns": null,
            "flex": null,
            "_model_name": "LayoutModel",
            "justify_items": null,
            "grid_row": null,
            "max_height": null,
            "align_content": null,
            "visibility": null,
            "align_self": null,
            "height": null,
            "min_height": null,
            "padding": null,
            "grid_auto_rows": null,
            "grid_gap": null,
            "max_width": null,
            "order": null,
            "_view_module_version": "1.2.0",
            "grid_template_areas": null,
            "object_position": null,
            "object_fit": null,
            "grid_auto_columns": null,
            "margin": null,
            "display": null,
            "left": null
          }
        },
        "89868cd3bd814ddabb0c31232fccd644": {
          "model_module": "@jupyter-widgets/controls",
          "model_name": "FloatProgressModel",
          "state": {
            "_view_name": "ProgressView",
            "style": "IPY_MODEL_aa317bc9557447b0a1b7534cb01d24d5",
            "_dom_classes": [],
            "description": "100%",
            "_model_name": "FloatProgressModel",
            "bar_style": "success",
            "max": 100,
            "_view_module": "@jupyter-widgets/controls",
            "_model_module_version": "1.5.0",
            "value": 100,
            "_view_count": null,
            "_view_module_version": "1.5.0",
            "orientation": "horizontal",
            "min": 0,
            "description_tooltip": null,
            "_model_module": "@jupyter-widgets/controls",
            "layout": "IPY_MODEL_af11e7a972124c959e43d2cbfb12c7ec"
          }
        },
        "0fbd6bbe47954f28b628d688b8fc8cf6": {
          "model_module": "@jupyter-widgets/controls",
          "model_name": "HTMLModel",
          "state": {
            "_view_name": "HTMLView",
            "style": "IPY_MODEL_1103dfa761544f5abda58f7596ceae90",
            "_dom_classes": [],
            "description": "",
            "_model_name": "HTMLModel",
            "placeholder": "​",
            "_view_module": "@jupyter-widgets/controls",
            "_model_module_version": "1.5.0",
            "value": " 100/100 [00:13&lt;00:00,  7.52it/s]",
            "_view_count": null,
            "_view_module_version": "1.5.0",
            "description_tooltip": null,
            "_model_module": "@jupyter-widgets/controls",
            "layout": "IPY_MODEL_bea85f9767c545d89c96b1b14a8459e1"
          }
        },
        "aa317bc9557447b0a1b7534cb01d24d5": {
          "model_module": "@jupyter-widgets/controls",
          "model_name": "ProgressStyleModel",
          "state": {
            "_view_name": "StyleView",
            "_model_name": "ProgressStyleModel",
            "description_width": "initial",
            "_view_module": "@jupyter-widgets/base",
            "_model_module_version": "1.5.0",
            "_view_count": null,
            "_view_module_version": "1.2.0",
            "bar_color": null,
            "_model_module": "@jupyter-widgets/controls"
          }
        },
        "af11e7a972124c959e43d2cbfb12c7ec": {
          "model_module": "@jupyter-widgets/base",
          "model_name": "LayoutModel",
          "state": {
            "_view_name": "LayoutView",
            "grid_template_rows": null,
            "right": null,
            "justify_content": null,
            "_view_module": "@jupyter-widgets/base",
            "overflow": null,
            "_model_module_version": "1.2.0",
            "_view_count": null,
            "flex_flow": null,
            "width": null,
            "min_width": null,
            "border": null,
            "align_items": null,
            "bottom": null,
            "_model_module": "@jupyter-widgets/base",
            "top": null,
            "grid_column": null,
            "overflow_y": null,
            "overflow_x": null,
            "grid_auto_flow": null,
            "grid_area": null,
            "grid_template_columns": null,
            "flex": null,
            "_model_name": "LayoutModel",
            "justify_items": null,
            "grid_row": null,
            "max_height": null,
            "align_content": null,
            "visibility": null,
            "align_self": null,
            "height": null,
            "min_height": null,
            "padding": null,
            "grid_auto_rows": null,
            "grid_gap": null,
            "max_width": null,
            "order": null,
            "_view_module_version": "1.2.0",
            "grid_template_areas": null,
            "object_position": null,
            "object_fit": null,
            "grid_auto_columns": null,
            "margin": null,
            "display": null,
            "left": null
          }
        },
        "1103dfa761544f5abda58f7596ceae90": {
          "model_module": "@jupyter-widgets/controls",
          "model_name": "DescriptionStyleModel",
          "state": {
            "_view_name": "StyleView",
            "_model_name": "DescriptionStyleModel",
            "description_width": "",
            "_view_module": "@jupyter-widgets/base",
            "_model_module_version": "1.5.0",
            "_view_count": null,
            "_view_module_version": "1.2.0",
            "_model_module": "@jupyter-widgets/controls"
          }
        },
        "bea85f9767c545d89c96b1b14a8459e1": {
          "model_module": "@jupyter-widgets/base",
          "model_name": "LayoutModel",
          "state": {
            "_view_name": "LayoutView",
            "grid_template_rows": null,
            "right": null,
            "justify_content": null,
            "_view_module": "@jupyter-widgets/base",
            "overflow": null,
            "_model_module_version": "1.2.0",
            "_view_count": null,
            "flex_flow": null,
            "width": null,
            "min_width": null,
            "border": null,
            "align_items": null,
            "bottom": null,
            "_model_module": "@jupyter-widgets/base",
            "top": null,
            "grid_column": null,
            "overflow_y": null,
            "overflow_x": null,
            "grid_auto_flow": null,
            "grid_area": null,
            "grid_template_columns": null,
            "flex": null,
            "_model_name": "LayoutModel",
            "justify_items": null,
            "grid_row": null,
            "max_height": null,
            "align_content": null,
            "visibility": null,
            "align_self": null,
            "height": null,
            "min_height": null,
            "padding": null,
            "grid_auto_rows": null,
            "grid_gap": null,
            "max_width": null,
            "order": null,
            "_view_module_version": "1.2.0",
            "grid_template_areas": null,
            "object_position": null,
            "object_fit": null,
            "grid_auto_columns": null,
            "margin": null,
            "display": null,
            "left": null
          }
        }
      }
    }
  },
  "cells": [
    {
      "cell_type": "code",
      "metadata": {
        "id": "S4YM3YcQ6UOw"
      },
      "source": [
        "#모듈 불러오기\n",
        "import matplotlib.pyplot as plt\n",
        "import random\n",
        "#from tqdm import tqdm\n",
        "from tqdm.notebook import tqdm"
      ],
      "execution_count": 3,
      "outputs": []
    },
    {
      "cell_type": "code",
      "metadata": {
        "colab": {
          "base_uri": "https://localhost:8080/"
        },
        "id": "JZXZJQUz60sF",
        "outputId": "6660d34a-698e-4d18-ed3f-75c54f4bedca"
      },
      "source": [
        "#Iris dataset 불러오기\n",
        "\n",
        "data = []\n",
        "\n",
        "with open('iris.data', 'r') as f:\n",
        "  for line in f:\n",
        "    if (line.strip() != ''):\n",
        "      iris = line.strip().split(',') #\",\"를 기준으로 나눔\n",
        "      vector = [float(v) for v in iris[:4]]\n",
        "      answer = iris[4]\n",
        "      data.append((vector, answer))\n",
        "      print(vector, answer)"
      ],
      "execution_count": 4,
      "outputs": [
        {
          "output_type": "stream",
          "text": [
            "[5.1, 3.5, 1.4, 0.2] Iris-setosa\n",
            "[4.9, 3.0, 1.4, 0.2] Iris-setosa\n",
            "[4.7, 3.2, 1.3, 0.2] Iris-setosa\n",
            "[4.6, 3.1, 1.5, 0.2] Iris-setosa\n",
            "[5.0, 3.6, 1.4, 0.2] Iris-setosa\n",
            "[5.4, 3.9, 1.7, 0.4] Iris-setosa\n",
            "[4.6, 3.4, 1.4, 0.3] Iris-setosa\n",
            "[5.0, 3.4, 1.5, 0.2] Iris-setosa\n",
            "[4.4, 2.9, 1.4, 0.2] Iris-setosa\n",
            "[4.9, 3.1, 1.5, 0.1] Iris-setosa\n",
            "[5.4, 3.7, 1.5, 0.2] Iris-setosa\n",
            "[4.8, 3.4, 1.6, 0.2] Iris-setosa\n",
            "[4.8, 3.0, 1.4, 0.1] Iris-setosa\n",
            "[4.3, 3.0, 1.1, 0.1] Iris-setosa\n",
            "[5.8, 4.0, 1.2, 0.2] Iris-setosa\n",
            "[5.7, 4.4, 1.5, 0.4] Iris-setosa\n",
            "[5.4, 3.9, 1.3, 0.4] Iris-setosa\n",
            "[5.1, 3.5, 1.4, 0.3] Iris-setosa\n",
            "[5.7, 3.8, 1.7, 0.3] Iris-setosa\n",
            "[5.1, 3.8, 1.5, 0.3] Iris-setosa\n",
            "[5.4, 3.4, 1.7, 0.2] Iris-setosa\n",
            "[5.1, 3.7, 1.5, 0.4] Iris-setosa\n",
            "[4.6, 3.6, 1.0, 0.2] Iris-setosa\n",
            "[5.1, 3.3, 1.7, 0.5] Iris-setosa\n",
            "[4.8, 3.4, 1.9, 0.2] Iris-setosa\n",
            "[5.0, 3.0, 1.6, 0.2] Iris-setosa\n",
            "[5.0, 3.4, 1.6, 0.4] Iris-setosa\n",
            "[5.2, 3.5, 1.5, 0.2] Iris-setosa\n",
            "[5.2, 3.4, 1.4, 0.2] Iris-setosa\n",
            "[4.7, 3.2, 1.6, 0.2] Iris-setosa\n",
            "[4.8, 3.1, 1.6, 0.2] Iris-setosa\n",
            "[5.4, 3.4, 1.5, 0.4] Iris-setosa\n",
            "[5.2, 4.1, 1.5, 0.1] Iris-setosa\n",
            "[5.5, 4.2, 1.4, 0.2] Iris-setosa\n",
            "[4.9, 3.1, 1.5, 0.1] Iris-setosa\n",
            "[5.0, 3.2, 1.2, 0.2] Iris-setosa\n",
            "[5.5, 3.5, 1.3, 0.2] Iris-setosa\n",
            "[4.9, 3.1, 1.5, 0.1] Iris-setosa\n",
            "[4.4, 3.0, 1.3, 0.2] Iris-setosa\n",
            "[5.1, 3.4, 1.5, 0.2] Iris-setosa\n",
            "[5.0, 3.5, 1.3, 0.3] Iris-setosa\n",
            "[4.5, 2.3, 1.3, 0.3] Iris-setosa\n",
            "[4.4, 3.2, 1.3, 0.2] Iris-setosa\n",
            "[5.0, 3.5, 1.6, 0.6] Iris-setosa\n",
            "[5.1, 3.8, 1.9, 0.4] Iris-setosa\n",
            "[4.8, 3.0, 1.4, 0.3] Iris-setosa\n",
            "[5.1, 3.8, 1.6, 0.2] Iris-setosa\n",
            "[4.6, 3.2, 1.4, 0.2] Iris-setosa\n",
            "[5.3, 3.7, 1.5, 0.2] Iris-setosa\n",
            "[5.0, 3.3, 1.4, 0.2] Iris-setosa\n",
            "[7.0, 3.2, 4.7, 1.4] Iris-versicolor\n",
            "[6.4, 3.2, 4.5, 1.5] Iris-versicolor\n",
            "[6.9, 3.1, 4.9, 1.5] Iris-versicolor\n",
            "[5.5, 2.3, 4.0, 1.3] Iris-versicolor\n",
            "[6.5, 2.8, 4.6, 1.5] Iris-versicolor\n",
            "[5.7, 2.8, 4.5, 1.3] Iris-versicolor\n",
            "[6.3, 3.3, 4.7, 1.6] Iris-versicolor\n",
            "[4.9, 2.4, 3.3, 1.0] Iris-versicolor\n",
            "[6.6, 2.9, 4.6, 1.3] Iris-versicolor\n",
            "[5.2, 2.7, 3.9, 1.4] Iris-versicolor\n",
            "[5.0, 2.0, 3.5, 1.0] Iris-versicolor\n",
            "[5.9, 3.0, 4.2, 1.5] Iris-versicolor\n",
            "[6.0, 2.2, 4.0, 1.0] Iris-versicolor\n",
            "[6.1, 2.9, 4.7, 1.4] Iris-versicolor\n",
            "[5.6, 2.9, 3.6, 1.3] Iris-versicolor\n",
            "[6.7, 3.1, 4.4, 1.4] Iris-versicolor\n",
            "[5.6, 3.0, 4.5, 1.5] Iris-versicolor\n",
            "[5.8, 2.7, 4.1, 1.0] Iris-versicolor\n",
            "[6.2, 2.2, 4.5, 1.5] Iris-versicolor\n",
            "[5.6, 2.5, 3.9, 1.1] Iris-versicolor\n",
            "[5.9, 3.2, 4.8, 1.8] Iris-versicolor\n",
            "[6.1, 2.8, 4.0, 1.3] Iris-versicolor\n",
            "[6.3, 2.5, 4.9, 1.5] Iris-versicolor\n",
            "[6.1, 2.8, 4.7, 1.2] Iris-versicolor\n",
            "[6.4, 2.9, 4.3, 1.3] Iris-versicolor\n",
            "[6.6, 3.0, 4.4, 1.4] Iris-versicolor\n",
            "[6.8, 2.8, 4.8, 1.4] Iris-versicolor\n",
            "[6.7, 3.0, 5.0, 1.7] Iris-versicolor\n",
            "[6.0, 2.9, 4.5, 1.5] Iris-versicolor\n",
            "[5.7, 2.6, 3.5, 1.0] Iris-versicolor\n",
            "[5.5, 2.4, 3.8, 1.1] Iris-versicolor\n",
            "[5.5, 2.4, 3.7, 1.0] Iris-versicolor\n",
            "[5.8, 2.7, 3.9, 1.2] Iris-versicolor\n",
            "[6.0, 2.7, 5.1, 1.6] Iris-versicolor\n",
            "[5.4, 3.0, 4.5, 1.5] Iris-versicolor\n",
            "[6.0, 3.4, 4.5, 1.6] Iris-versicolor\n",
            "[6.7, 3.1, 4.7, 1.5] Iris-versicolor\n",
            "[6.3, 2.3, 4.4, 1.3] Iris-versicolor\n",
            "[5.6, 3.0, 4.1, 1.3] Iris-versicolor\n",
            "[5.5, 2.5, 4.0, 1.3] Iris-versicolor\n",
            "[5.5, 2.6, 4.4, 1.2] Iris-versicolor\n",
            "[6.1, 3.0, 4.6, 1.4] Iris-versicolor\n",
            "[5.8, 2.6, 4.0, 1.2] Iris-versicolor\n",
            "[5.0, 2.3, 3.3, 1.0] Iris-versicolor\n",
            "[5.6, 2.7, 4.2, 1.3] Iris-versicolor\n",
            "[5.7, 3.0, 4.2, 1.2] Iris-versicolor\n",
            "[5.7, 2.9, 4.2, 1.3] Iris-versicolor\n",
            "[6.2, 2.9, 4.3, 1.3] Iris-versicolor\n",
            "[5.1, 2.5, 3.0, 1.1] Iris-versicolor\n",
            "[5.7, 2.8, 4.1, 1.3] Iris-versicolor\n",
            "[6.3, 3.3, 6.0, 2.5] Iris-virginica\n",
            "[5.8, 2.7, 5.1, 1.9] Iris-virginica\n",
            "[7.1, 3.0, 5.9, 2.1] Iris-virginica\n",
            "[6.3, 2.9, 5.6, 1.8] Iris-virginica\n",
            "[6.5, 3.0, 5.8, 2.2] Iris-virginica\n",
            "[7.6, 3.0, 6.6, 2.1] Iris-virginica\n",
            "[4.9, 2.5, 4.5, 1.7] Iris-virginica\n",
            "[7.3, 2.9, 6.3, 1.8] Iris-virginica\n",
            "[6.7, 2.5, 5.8, 1.8] Iris-virginica\n",
            "[7.2, 3.6, 6.1, 2.5] Iris-virginica\n",
            "[6.5, 3.2, 5.1, 2.0] Iris-virginica\n",
            "[6.4, 2.7, 5.3, 1.9] Iris-virginica\n",
            "[6.8, 3.0, 5.5, 2.1] Iris-virginica\n",
            "[5.7, 2.5, 5.0, 2.0] Iris-virginica\n",
            "[5.8, 2.8, 5.1, 2.4] Iris-virginica\n",
            "[6.4, 3.2, 5.3, 2.3] Iris-virginica\n",
            "[6.5, 3.0, 5.5, 1.8] Iris-virginica\n",
            "[7.7, 3.8, 6.7, 2.2] Iris-virginica\n",
            "[7.7, 2.6, 6.9, 2.3] Iris-virginica\n",
            "[6.0, 2.2, 5.0, 1.5] Iris-virginica\n",
            "[6.9, 3.2, 5.7, 2.3] Iris-virginica\n",
            "[5.6, 2.8, 4.9, 2.0] Iris-virginica\n",
            "[7.7, 2.8, 6.7, 2.0] Iris-virginica\n",
            "[6.3, 2.7, 4.9, 1.8] Iris-virginica\n",
            "[6.7, 3.3, 5.7, 2.1] Iris-virginica\n",
            "[7.2, 3.2, 6.0, 1.8] Iris-virginica\n",
            "[6.2, 2.8, 4.8, 1.8] Iris-virginica\n",
            "[6.1, 3.0, 4.9, 1.8] Iris-virginica\n",
            "[6.4, 2.8, 5.6, 2.1] Iris-virginica\n",
            "[7.2, 3.0, 5.8, 1.6] Iris-virginica\n",
            "[7.4, 2.8, 6.1, 1.9] Iris-virginica\n",
            "[7.9, 3.8, 6.4, 2.0] Iris-virginica\n",
            "[6.4, 2.8, 5.6, 2.2] Iris-virginica\n",
            "[6.3, 2.8, 5.1, 1.5] Iris-virginica\n",
            "[6.1, 2.6, 5.6, 1.4] Iris-virginica\n",
            "[7.7, 3.0, 6.1, 2.3] Iris-virginica\n",
            "[6.3, 3.4, 5.6, 2.4] Iris-virginica\n",
            "[6.4, 3.1, 5.5, 1.8] Iris-virginica\n",
            "[6.0, 3.0, 4.8, 1.8] Iris-virginica\n",
            "[6.9, 3.1, 5.4, 2.1] Iris-virginica\n",
            "[6.7, 3.1, 5.6, 2.4] Iris-virginica\n",
            "[6.9, 3.1, 5.1, 2.3] Iris-virginica\n",
            "[5.8, 2.7, 5.1, 1.9] Iris-virginica\n",
            "[6.8, 3.2, 5.9, 2.3] Iris-virginica\n",
            "[6.7, 3.3, 5.7, 2.5] Iris-virginica\n",
            "[6.7, 3.0, 5.2, 2.3] Iris-virginica\n",
            "[6.3, 2.5, 5.0, 1.9] Iris-virginica\n",
            "[6.5, 3.0, 5.2, 2.0] Iris-virginica\n",
            "[6.2, 3.4, 5.4, 2.3] Iris-virginica\n",
            "[5.9, 3.0, 5.1, 1.8] Iris-virginica\n"
          ],
          "name": "stdout"
        }
      ]
    },
    {
      "cell_type": "code",
      "metadata": {
        "colab": {
          "base_uri": "https://localhost:8080/"
        },
        "id": "GIQHU_lPAP2V",
        "outputId": "cead1f8e-ed1e-4f06-9f26-c01c5ef70690"
      },
      "source": [
        "#종류에 대해서 dictionary로\n",
        "species = {'Iris-setosa' : 0, 'Iris-versicolor' : 1, 'Iris-virginica' : 2}\n",
        "#species = {n : i for i, n in enumerate(set(d[1] for d in data))}\n",
        "\n",
        "species"
      ],
      "execution_count": 5,
      "outputs": [
        {
          "output_type": "execute_result",
          "data": {
            "text/plain": [
              "{'Iris-setosa': 0, 'Iris-versicolor': 1, 'Iris-virginica': 2}"
            ]
          },
          "metadata": {
            "tags": []
          },
          "execution_count": 5
        }
      ]
    },
    {
      "cell_type": "code",
      "metadata": {
        "colab": {
          "base_uri": "https://localhost:8080/"
        },
        "id": "TsmWTN1jBWyk",
        "outputId": "3026cb09-93fc-46f7-fcbc-b79d61f353e6"
      },
      "source": [
        "#종류에 대해서 int로 설정\n",
        "data = [(d[0], species[d[1]]) for d in data]\n",
        "data"
      ],
      "execution_count": 6,
      "outputs": [
        {
          "output_type": "execute_result",
          "data": {
            "text/plain": [
              "[([5.1, 3.5, 1.4, 0.2], 0),\n",
              " ([4.9, 3.0, 1.4, 0.2], 0),\n",
              " ([4.7, 3.2, 1.3, 0.2], 0),\n",
              " ([4.6, 3.1, 1.5, 0.2], 0),\n",
              " ([5.0, 3.6, 1.4, 0.2], 0),\n",
              " ([5.4, 3.9, 1.7, 0.4], 0),\n",
              " ([4.6, 3.4, 1.4, 0.3], 0),\n",
              " ([5.0, 3.4, 1.5, 0.2], 0),\n",
              " ([4.4, 2.9, 1.4, 0.2], 0),\n",
              " ([4.9, 3.1, 1.5, 0.1], 0),\n",
              " ([5.4, 3.7, 1.5, 0.2], 0),\n",
              " ([4.8, 3.4, 1.6, 0.2], 0),\n",
              " ([4.8, 3.0, 1.4, 0.1], 0),\n",
              " ([4.3, 3.0, 1.1, 0.1], 0),\n",
              " ([5.8, 4.0, 1.2, 0.2], 0),\n",
              " ([5.7, 4.4, 1.5, 0.4], 0),\n",
              " ([5.4, 3.9, 1.3, 0.4], 0),\n",
              " ([5.1, 3.5, 1.4, 0.3], 0),\n",
              " ([5.7, 3.8, 1.7, 0.3], 0),\n",
              " ([5.1, 3.8, 1.5, 0.3], 0),\n",
              " ([5.4, 3.4, 1.7, 0.2], 0),\n",
              " ([5.1, 3.7, 1.5, 0.4], 0),\n",
              " ([4.6, 3.6, 1.0, 0.2], 0),\n",
              " ([5.1, 3.3, 1.7, 0.5], 0),\n",
              " ([4.8, 3.4, 1.9, 0.2], 0),\n",
              " ([5.0, 3.0, 1.6, 0.2], 0),\n",
              " ([5.0, 3.4, 1.6, 0.4], 0),\n",
              " ([5.2, 3.5, 1.5, 0.2], 0),\n",
              " ([5.2, 3.4, 1.4, 0.2], 0),\n",
              " ([4.7, 3.2, 1.6, 0.2], 0),\n",
              " ([4.8, 3.1, 1.6, 0.2], 0),\n",
              " ([5.4, 3.4, 1.5, 0.4], 0),\n",
              " ([5.2, 4.1, 1.5, 0.1], 0),\n",
              " ([5.5, 4.2, 1.4, 0.2], 0),\n",
              " ([4.9, 3.1, 1.5, 0.1], 0),\n",
              " ([5.0, 3.2, 1.2, 0.2], 0),\n",
              " ([5.5, 3.5, 1.3, 0.2], 0),\n",
              " ([4.9, 3.1, 1.5, 0.1], 0),\n",
              " ([4.4, 3.0, 1.3, 0.2], 0),\n",
              " ([5.1, 3.4, 1.5, 0.2], 0),\n",
              " ([5.0, 3.5, 1.3, 0.3], 0),\n",
              " ([4.5, 2.3, 1.3, 0.3], 0),\n",
              " ([4.4, 3.2, 1.3, 0.2], 0),\n",
              " ([5.0, 3.5, 1.6, 0.6], 0),\n",
              " ([5.1, 3.8, 1.9, 0.4], 0),\n",
              " ([4.8, 3.0, 1.4, 0.3], 0),\n",
              " ([5.1, 3.8, 1.6, 0.2], 0),\n",
              " ([4.6, 3.2, 1.4, 0.2], 0),\n",
              " ([5.3, 3.7, 1.5, 0.2], 0),\n",
              " ([5.0, 3.3, 1.4, 0.2], 0),\n",
              " ([7.0, 3.2, 4.7, 1.4], 1),\n",
              " ([6.4, 3.2, 4.5, 1.5], 1),\n",
              " ([6.9, 3.1, 4.9, 1.5], 1),\n",
              " ([5.5, 2.3, 4.0, 1.3], 1),\n",
              " ([6.5, 2.8, 4.6, 1.5], 1),\n",
              " ([5.7, 2.8, 4.5, 1.3], 1),\n",
              " ([6.3, 3.3, 4.7, 1.6], 1),\n",
              " ([4.9, 2.4, 3.3, 1.0], 1),\n",
              " ([6.6, 2.9, 4.6, 1.3], 1),\n",
              " ([5.2, 2.7, 3.9, 1.4], 1),\n",
              " ([5.0, 2.0, 3.5, 1.0], 1),\n",
              " ([5.9, 3.0, 4.2, 1.5], 1),\n",
              " ([6.0, 2.2, 4.0, 1.0], 1),\n",
              " ([6.1, 2.9, 4.7, 1.4], 1),\n",
              " ([5.6, 2.9, 3.6, 1.3], 1),\n",
              " ([6.7, 3.1, 4.4, 1.4], 1),\n",
              " ([5.6, 3.0, 4.5, 1.5], 1),\n",
              " ([5.8, 2.7, 4.1, 1.0], 1),\n",
              " ([6.2, 2.2, 4.5, 1.5], 1),\n",
              " ([5.6, 2.5, 3.9, 1.1], 1),\n",
              " ([5.9, 3.2, 4.8, 1.8], 1),\n",
              " ([6.1, 2.8, 4.0, 1.3], 1),\n",
              " ([6.3, 2.5, 4.9, 1.5], 1),\n",
              " ([6.1, 2.8, 4.7, 1.2], 1),\n",
              " ([6.4, 2.9, 4.3, 1.3], 1),\n",
              " ([6.6, 3.0, 4.4, 1.4], 1),\n",
              " ([6.8, 2.8, 4.8, 1.4], 1),\n",
              " ([6.7, 3.0, 5.0, 1.7], 1),\n",
              " ([6.0, 2.9, 4.5, 1.5], 1),\n",
              " ([5.7, 2.6, 3.5, 1.0], 1),\n",
              " ([5.5, 2.4, 3.8, 1.1], 1),\n",
              " ([5.5, 2.4, 3.7, 1.0], 1),\n",
              " ([5.8, 2.7, 3.9, 1.2], 1),\n",
              " ([6.0, 2.7, 5.1, 1.6], 1),\n",
              " ([5.4, 3.0, 4.5, 1.5], 1),\n",
              " ([6.0, 3.4, 4.5, 1.6], 1),\n",
              " ([6.7, 3.1, 4.7, 1.5], 1),\n",
              " ([6.3, 2.3, 4.4, 1.3], 1),\n",
              " ([5.6, 3.0, 4.1, 1.3], 1),\n",
              " ([5.5, 2.5, 4.0, 1.3], 1),\n",
              " ([5.5, 2.6, 4.4, 1.2], 1),\n",
              " ([6.1, 3.0, 4.6, 1.4], 1),\n",
              " ([5.8, 2.6, 4.0, 1.2], 1),\n",
              " ([5.0, 2.3, 3.3, 1.0], 1),\n",
              " ([5.6, 2.7, 4.2, 1.3], 1),\n",
              " ([5.7, 3.0, 4.2, 1.2], 1),\n",
              " ([5.7, 2.9, 4.2, 1.3], 1),\n",
              " ([6.2, 2.9, 4.3, 1.3], 1),\n",
              " ([5.1, 2.5, 3.0, 1.1], 1),\n",
              " ([5.7, 2.8, 4.1, 1.3], 1),\n",
              " ([6.3, 3.3, 6.0, 2.5], 2),\n",
              " ([5.8, 2.7, 5.1, 1.9], 2),\n",
              " ([7.1, 3.0, 5.9, 2.1], 2),\n",
              " ([6.3, 2.9, 5.6, 1.8], 2),\n",
              " ([6.5, 3.0, 5.8, 2.2], 2),\n",
              " ([7.6, 3.0, 6.6, 2.1], 2),\n",
              " ([4.9, 2.5, 4.5, 1.7], 2),\n",
              " ([7.3, 2.9, 6.3, 1.8], 2),\n",
              " ([6.7, 2.5, 5.8, 1.8], 2),\n",
              " ([7.2, 3.6, 6.1, 2.5], 2),\n",
              " ([6.5, 3.2, 5.1, 2.0], 2),\n",
              " ([6.4, 2.7, 5.3, 1.9], 2),\n",
              " ([6.8, 3.0, 5.5, 2.1], 2),\n",
              " ([5.7, 2.5, 5.0, 2.0], 2),\n",
              " ([5.8, 2.8, 5.1, 2.4], 2),\n",
              " ([6.4, 3.2, 5.3, 2.3], 2),\n",
              " ([6.5, 3.0, 5.5, 1.8], 2),\n",
              " ([7.7, 3.8, 6.7, 2.2], 2),\n",
              " ([7.7, 2.6, 6.9, 2.3], 2),\n",
              " ([6.0, 2.2, 5.0, 1.5], 2),\n",
              " ([6.9, 3.2, 5.7, 2.3], 2),\n",
              " ([5.6, 2.8, 4.9, 2.0], 2),\n",
              " ([7.7, 2.8, 6.7, 2.0], 2),\n",
              " ([6.3, 2.7, 4.9, 1.8], 2),\n",
              " ([6.7, 3.3, 5.7, 2.1], 2),\n",
              " ([7.2, 3.2, 6.0, 1.8], 2),\n",
              " ([6.2, 2.8, 4.8, 1.8], 2),\n",
              " ([6.1, 3.0, 4.9, 1.8], 2),\n",
              " ([6.4, 2.8, 5.6, 2.1], 2),\n",
              " ([7.2, 3.0, 5.8, 1.6], 2),\n",
              " ([7.4, 2.8, 6.1, 1.9], 2),\n",
              " ([7.9, 3.8, 6.4, 2.0], 2),\n",
              " ([6.4, 2.8, 5.6, 2.2], 2),\n",
              " ([6.3, 2.8, 5.1, 1.5], 2),\n",
              " ([6.1, 2.6, 5.6, 1.4], 2),\n",
              " ([7.7, 3.0, 6.1, 2.3], 2),\n",
              " ([6.3, 3.4, 5.6, 2.4], 2),\n",
              " ([6.4, 3.1, 5.5, 1.8], 2),\n",
              " ([6.0, 3.0, 4.8, 1.8], 2),\n",
              " ([6.9, 3.1, 5.4, 2.1], 2),\n",
              " ([6.7, 3.1, 5.6, 2.4], 2),\n",
              " ([6.9, 3.1, 5.1, 2.3], 2),\n",
              " ([5.8, 2.7, 5.1, 1.9], 2),\n",
              " ([6.8, 3.2, 5.9, 2.3], 2),\n",
              " ([6.7, 3.3, 5.7, 2.5], 2),\n",
              " ([6.7, 3.0, 5.2, 2.3], 2),\n",
              " ([6.3, 2.5, 5.0, 1.9], 2),\n",
              " ([6.5, 3.0, 5.2, 2.0], 2),\n",
              " ([6.2, 3.4, 5.4, 2.3], 2),\n",
              " ([5.9, 3.0, 5.1, 1.8], 2)]"
            ]
          },
          "metadata": {
            "tags": []
          },
          "execution_count": 6
        }
      ]
    },
    {
      "cell_type": "code",
      "metadata": {
        "colab": {
          "base_uri": "https://localhost:8080/",
          "height": 286
        },
        "id": "JplXOhtxCCs2",
        "outputId": "48dc01dc-b31c-4063-91a1-3aec54595864"
      },
      "source": [
        "#산포도 그려보기\n",
        "\n",
        "X = [d[0][0] for d in data]\n",
        "Y = [d[0][1] for d in data]\n",
        "C = [d[1] for d in data]\n",
        "\n",
        "plt.scatter(X, Y, c=C, alpha = 0.3)\n",
        "plt.show()\n",
        "\n",
        "'''\n",
        "for i in range(4):\n",
        "  for j in range(i + 1, 4):\n",
        "        \n",
        "    X = [d[0][i] for d in data]\n",
        "    Y = [d[0][j] for d in data]\n",
        "    C = [d[1] for d in data]\n",
        "\n",
        "    plt.scatter(X, Y, c=C, alpha = 0.3)\n",
        "    plt.show()\n",
        "'''"
      ],
      "execution_count": 7,
      "outputs": [
        {
          "output_type": "display_data",
          "data": {
            "image/png": "[encoded data removed]",
            "text/plain": [
              "<Figure size 432x288 with 1 Axes>"
            ]
          },
          "metadata": {
            "tags": [],
            "needs_background": "light"
          }
        },
        {
          "output_type": "execute_result",
          "data": {
            "application/vnd.google.colaboratory.intrinsic+json": {
              "type": "string"
            },
            "text/plain": [
              "'\\nfor i in range(4):\\n  for j in range(i + 1, 4):\\n        \\n    X = [d[0][i] for d in data]\\n    Y = [d[0][j] for d in data]\\n    C = [d[1] for d in data]\\n\\n    plt.scatter(X, Y, c=C, alpha = 0.3)\\n    plt.show()\\n'"
            ]
          },
          "metadata": {
            "tags": []
          },
          "execution_count": 7
        }
      ]
    },
    {
      "cell_type": "code",
      "metadata": {
        "colab": {
          "base_uri": "https://localhost:8080/"
        },
        "id": "Tu9eBPJ4DNgd",
        "outputId": "395c6eb0-4b1e-49d3-8cf6-5c783f3dc8e8"
      },
      "source": [
        "#Test Data를 분리\n",
        "\n",
        "#data를 섞음\n",
        "random.shuffle(data)\n",
        "train_size = int(len(data) * 0.8)\n",
        "test_size = int(len(data) - train_size)\n",
        "train = data[:train_size]\n",
        "test = data[train_size:]\n",
        "\n",
        "print(\"Train Size : {}, Test Size : {}\".format(len(train), len(test)))\n",
        "print(len(data))"
      ],
      "execution_count": 8,
      "outputs": [
        {
          "output_type": "stream",
          "text": [
            "Train Size : 120, Test Size : 30\n",
            "150\n"
          ],
          "name": "stdout"
        }
      ]
    },
    {
      "cell_type": "code",
      "metadata": {
        "colab": {
          "base_uri": "https://localhost:8080/"
        },
        "id": "S_JpPn6fD_fw",
        "outputId": "c4e373b3-6d85-4e50-f177-5bae105e692a"
      },
      "source": [
        "from collections import Counter\n",
        "#---KNN\n",
        "\n",
        "#거리구하기\n",
        "#p1, p2 : [1, 2, 3, 4] ~> 차원은 ==\n",
        "def distance(p1, p2):\n",
        "  sum = 0\n",
        "  for i in range(len(p1)):\n",
        "    sum += (p1[i] - p2[i])**2\n",
        "  return sum ** 0.5\n",
        "\n",
        "#knn method\n",
        "def knn_classify(k, query, train): #k, 거리, train\n",
        "  #거리 이용\n",
        "  knns = sorted((distance(query, point[0]), point) for point in train)[:k]\n",
        "  #print(\"Knns : \", knns)\n",
        "\n",
        "  x = Counter(d[1][1] for d in knns).most_common(1)\n",
        "  return x[0][0]\n",
        "  #가중치 이용\n",
        "  # scores = {}\n",
        "  # for dist, point in knns:\n",
        "  #   scores[point[0][1]] = scores.get(point[0][0], 0) + 1/(1 + dist)\n",
        "  # resp, score = max(scores.items(), key = lambda x : x[1])\n",
        "\n",
        "  # return resp\n",
        "\n",
        "  \n",
        "answer = knn_classify(3, test[0][0], train)\n",
        "print(\"Query : \", test[0])  \n",
        "print(\"Answer : \", answer)"
      ],
      "execution_count": 9,
      "outputs": [
        {
          "output_type": "stream",
          "text": [
            "Query :  ([4.6, 3.6, 1.0, 0.2], 0)\n",
            "Answer :  0\n"
          ],
          "name": "stdout"
        }
      ]
    },
    {
      "cell_type": "code",
      "metadata": {
        "colab": {
          "base_uri": "https://localhost:8080/",
          "height": 314,
          "referenced_widgets": [
            "4938ea36a0a940239fa1424d025abb5d",
            "c11ba1881b7f4256bfe7bf7843786267",
            "89868cd3bd814ddabb0c31232fccd644",
            "0fbd6bbe47954f28b628d688b8fc8cf6",
            "aa317bc9557447b0a1b7534cb01d24d5",
            "af11e7a972124c959e43d2cbfb12c7ec",
            "1103dfa761544f5abda58f7596ceae90",
            "bea85f9767c545d89c96b1b14a8459e1"
          ]
        },
        "id": "fccwH0rjEBmR",
        "outputId": "4d90ee63-6444-4403-9803-7c4e9aeebcb3"
      },
      "source": [
        "#가장 좋은 K찾기\n",
        "\n",
        "#점하나 빼고 나머지점과 비교(기본적)\n",
        "#test/train을 여러번함 ~~> 가장 성능 잘나오는 것으로\n",
        "\n",
        "num_trials = 100\n",
        "train_size = int(len(data) * 0.8)\n",
        "test_size = len(data) - train_size\n",
        " \n",
        "corrects = [0] * 20\n",
        "\n",
        "for i in tqdm(range(num_trials)):\n",
        "  random.shuffle(data)\n",
        "  train = data[:train_size]\n",
        "  test = data[train_size:]\n",
        "\n",
        "  for k in range(1,20):\n",
        "    corrects[k] += sum(1 for t in test if knn_classify(k, t[0], train) == t[1])\n",
        "    \n",
        "for k in range(1, 20):\n",
        "  corrects[k] /= num_trials * test_size\n",
        "    \n",
        "'''\n",
        "answer = knn_classify(k, t[0], train)\n",
        "cor_answer = t[1]\n",
        "corrects[k] += sum(1 for t in test if knn_classify(k, t, train) == t[1])\n",
        "corrects[k] /= num_trials * test_size\n",
        "if (answer == cor_answer): cor_counter += 1\n",
        "plt.plot(range(1,20), corrects[1:], '-x')\n",
        "plt.show()\n",
        "'''\n",
        "plt.plot(range(1,20), corrects[1:], '-x')\n",
        "plt.show()"
      ],
      "execution_count": 10,
      "outputs": [
        {
          "output_type": "display_data",
          "data": {
            "application/vnd.jupyter.widget-view+json": {
              "model_id": "4938ea36a0a940239fa1424d025abb5d",
              "version_minor": 0,
              "version_major": 2
            },
            "text/plain": [
              "HBox(children=(FloatProgress(value=0.0), HTML(value='')))"
            ]
          },
          "metadata": {
            "tags": []
          }
        },
        {
          "output_type": "stream",
          "text": [
            "\n"
          ],
          "name": "stdout"
        },
        {
          "output_type": "display_data",
          "data": {
            "image/png": "[encoded data removed]",
            "text/plain": [
              "<Figure size 432x288 with 1 Axes>"
            ]
          },
          "metadata": {
            "tags": [],
            "needs_background": "light"
          }
        }
      ]
    }
  ]
}