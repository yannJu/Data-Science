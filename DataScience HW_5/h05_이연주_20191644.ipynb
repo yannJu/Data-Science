{
  "nbformat": 4,
  "nbformat_minor": 0,
  "metadata": {
    "colab": {
      "name": "h05_이연주_20191644",
      "provenance": []
    },
    "kernelspec": {
      "name": "python3",
      "display_name": "Python 3"
    }
  },
  "cells": [
    {
      "cell_type": "code",
      "metadata": {
        "id": "n9T5hibARtoI"
      },
      "source": [
        "#!cat ua.base \n",
        "#파일 가져오기 (Google mount ...)"
      ],
      "execution_count": 96,
      "outputs": []
    },
    {
      "cell_type": "code",
      "metadata": {
        "id": "vr7QndsnVRex"
      },
      "source": [
        "import torch\n",
        "import pandas as pd\n",
        "import torch.nn.functional as F\n",
        "import matplotlib.pyplot as plt"
      ],
      "execution_count": 97,
      "outputs": []
    },
    {
      "cell_type": "code",
      "metadata": {
        "id": "tDbLTV82VePh",
        "outputId": "1f379d3b-263a-4b5e-c2d6-be8c4de14ea0",
        "colab": {
          "base_uri": "https://localhost:8080/",
          "height": 402
        }
      },
      "source": [
        "#tab 으로 구분됨 == csv 파일 ~> Pandas 사용\n",
        "#csv == {1, 2, ...}\n",
        "\n",
        "train = pd.read_csv(\"ua.base\", sep = \"\\t\", names = ['user', 'movie', 'rating', 'timestamp']) #sep = \",\" 인데 \"\\t\"으로 설정\n",
        "test = pd.read_csv(\"ua.test\", sep = \"\\t\", names = ['user', 'movie', 'rating', 'timestamp'])\n",
        "\n",
        "#train\n",
        "test"
      ],
      "execution_count": 98,
      "outputs": [
        {
          "output_type": "execute_result",
          "data": {
            "text/html": [
              "<div>\n",
              "<style scoped>\n",
              "    .dataframe tbody tr th:only-of-type {\n",
              "        vertical-align: middle;\n",
              "    }\n",
              "\n",
              "    .dataframe tbody tr th {\n",
              "        vertical-align: top;\n",
              "    }\n",
              "\n",
              "    .dataframe thead th {\n",
              "        text-align: right;\n",
              "    }\n",
              "</style>\n",
              "<table border=\"1\" class=\"dataframe\">\n",
              "  <thead>\n",
              "    <tr style=\"text-align: right;\">\n",
              "      <th></th>\n",
              "      <th>user</th>\n",
              "      <th>movie</th>\n",
              "      <th>rating</th>\n",
              "      <th>timestamp</th>\n",
              "    </tr>\n",
              "  </thead>\n",
              "  <tbody>\n",
              "    <tr>\n",
              "      <th>0</th>\n",
              "      <td>1</td>\n",
              "      <td>20</td>\n",
              "      <td>4</td>\n",
              "      <td>887431883</td>\n",
              "    </tr>\n",
              "    <tr>\n",
              "      <th>1</th>\n",
              "      <td>1</td>\n",
              "      <td>33</td>\n",
              "      <td>4</td>\n",
              "      <td>878542699</td>\n",
              "    </tr>\n",
              "    <tr>\n",
              "      <th>2</th>\n",
              "      <td>1</td>\n",
              "      <td>61</td>\n",
              "      <td>4</td>\n",
              "      <td>878542420</td>\n",
              "    </tr>\n",
              "    <tr>\n",
              "      <th>3</th>\n",
              "      <td>1</td>\n",
              "      <td>117</td>\n",
              "      <td>3</td>\n",
              "      <td>874965739</td>\n",
              "    </tr>\n",
              "    <tr>\n",
              "      <th>4</th>\n",
              "      <td>1</td>\n",
              "      <td>155</td>\n",
              "      <td>2</td>\n",
              "      <td>878542201</td>\n",
              "    </tr>\n",
              "    <tr>\n",
              "      <th>...</th>\n",
              "      <td>...</td>\n",
              "      <td>...</td>\n",
              "      <td>...</td>\n",
              "      <td>...</td>\n",
              "    </tr>\n",
              "    <tr>\n",
              "      <th>9425</th>\n",
              "      <td>943</td>\n",
              "      <td>232</td>\n",
              "      <td>4</td>\n",
              "      <td>888639867</td>\n",
              "    </tr>\n",
              "    <tr>\n",
              "      <th>9426</th>\n",
              "      <td>943</td>\n",
              "      <td>356</td>\n",
              "      <td>4</td>\n",
              "      <td>888639598</td>\n",
              "    </tr>\n",
              "    <tr>\n",
              "      <th>9427</th>\n",
              "      <td>943</td>\n",
              "      <td>570</td>\n",
              "      <td>1</td>\n",
              "      <td>888640125</td>\n",
              "    </tr>\n",
              "    <tr>\n",
              "      <th>9428</th>\n",
              "      <td>943</td>\n",
              "      <td>808</td>\n",
              "      <td>4</td>\n",
              "      <td>888639868</td>\n",
              "    </tr>\n",
              "    <tr>\n",
              "      <th>9429</th>\n",
              "      <td>943</td>\n",
              "      <td>1067</td>\n",
              "      <td>2</td>\n",
              "      <td>875501756</td>\n",
              "    </tr>\n",
              "  </tbody>\n",
              "</table>\n",
              "<p>9430 rows × 4 columns</p>\n",
              "</div>"
            ],
            "text/plain": [
              "      user  movie  rating  timestamp\n",
              "0        1     20       4  887431883\n",
              "1        1     33       4  878542699\n",
              "2        1     61       4  878542420\n",
              "3        1    117       3  874965739\n",
              "4        1    155       2  878542201\n",
              "...    ...    ...     ...        ...\n",
              "9425   943    232       4  888639867\n",
              "9426   943    356       4  888639598\n",
              "9427   943    570       1  888640125\n",
              "9428   943    808       4  888639868\n",
              "9429   943   1067       2  875501756\n",
              "\n",
              "[9430 rows x 4 columns]"
            ]
          },
          "metadata": {
            "tags": []
          },
          "execution_count": 98
        }
      ]
    },
    {
      "cell_type": "code",
      "metadata": {
        "id": "jMp2j_hfWLE4",
        "outputId": "d7c27084-f902-4ff1-d688-15f3857420b0",
        "colab": {
          "base_uri": "https://localhost:8080/"
        }
      },
      "source": [
        "#pytorch에서 데이터를 다루는데 pandas는 쓸 수 없음 ~> tensor로 바꿈\n",
        "#column 별로\n",
        "\n",
        "#train Data\n",
        "items = torch.LongTensor(train['movie'])\n",
        "users = torch.LongTensor(train['user'])\n",
        "ratings = torch.FloatTensor(train['rating'])\n",
        "\n",
        "#test Data\n",
        "items_test = torch.LongTensor(test['movie'])\n",
        "users_test = torch.LongTensor(test['user'])\n",
        "ratings_test = torch.FloatTensor(test['rating'])\n",
        "\n",
        "print(\"Train : items : {}, users : {}, ratings : {}\".format(items, users, ratings))\n",
        "print(\"Test : items : {}, users : {}, ratings : {}\".format(items_test, users_test, ratings_test))"
      ],
      "execution_count": 99,
      "outputs": [
        {
          "output_type": "stream",
          "text": [
            "Train : items : tensor([   1,    2,    3,  ..., 1188, 1228, 1330]), users : tensor([  1,   1,   1,  ..., 943, 943, 943]), ratings : tensor([5., 3., 4.,  ..., 3., 3., 3.])\n",
            "Test : items : tensor([  20,   33,   61,  ...,  570,  808, 1067]), users : tensor([  1,   1,   1,  ..., 943, 943, 943]), ratings : tensor([4., 4., 4.,  ..., 1., 4., 2.])\n"
          ],
          "name": "stdout"
        }
      ]
    },
    {
      "cell_type": "code",
      "metadata": {
        "id": "SWRrpzp1XA6S",
        "outputId": "d13edf09-884a-441d-a14d-9175e1f72a6c",
        "colab": {
          "base_uri": "https://localhost:8080/"
        }
      },
      "source": [
        "#LatentFacto Model ~> 두 matrix의 내적과 ratings을 통해 학습\n",
        "\n",
        "rank = 30 #param으로 지정\n",
        "numItems = items.max() + 1\n",
        "numUsers = users.max() + 1 #item, user의 갯수를 알아야 하기 때문에 (live하게)\n",
        "\n",
        "P = torch.randn(numItems, rank, requires_grad=True)\n",
        "Q = torch.randn(numUsers, rank, requires_grad=True) #P, Q는 num x rank 인 Matrix\n",
        "\n",
        "#print(\"P : {}, Q : {}, P * Q : {}, P . Q : {}\".format(P[123], Q[3], P[123] * Q[3], torch.sum(P[123] * Q[3])))\n",
        "\n",
        "#ID ; 3 인 user가 ID ; 123 인 Movie 의 예상별점???\n",
        "#torch.sum(P[123] * Q[3])\n",
        "\n",
        "optimizer = torch.optim.Adam([P, Q], lr = 0.1)\n",
        "X = []\n",
        "Y = [] #plot을 위한 list\n",
        "Y_Test = []\n",
        "\n",
        "#즉, movie에 대한 정보를 rank만큼으로 속성을 만들어 놓은 (len(items) x rank) matrix에서 원하는 movie에 대한 matrix를 가져옴\n",
        "print(\"P : {}, P_Items : {}\".format(P, P[items])) #items에 있는 idx를 가지고 matrix로 만듦\n",
        "\n",
        "lambda1 = 0.0001\n",
        "lambda2 = 0.0001 #param, 너무 크면 학습 잘 안됨\n",
        "lambda3 = 0.0001\n",
        "lambda4 = 0.0001\n",
        "\n",
        "bias_item = torch.randn(numItems, requires_grad=True)\n",
        "bias_user = torch.randn(numUsers, requires_grad=True) #bias item, user 학습을 위해 rand\n",
        "mean = (ratings.sum() / len(ratings)).item()\n",
        "\n",
        "#cost\n",
        "for epoch in range(1001):\n",
        "  hypothesis = torch.sum(P[items] * Q[users], dim=1) + mean + bias_item[items] + bias_user[users] #가설함수\n",
        "  cost = F.mse_loss(hypothesis, ratings) #== cost = torch.mean((hypothesis - ratings) ** 2)\n",
        "  loss = cost + lambda1 * torch.sum(P ** 2) + lambda2 * torch.sum(Q ** 2) + lambda3 * torch.sum(bias_item ** 2) + lambda4 * torch.sum(bias_user ** 2) #overfitting 을 방지하기 위해\n",
        "\n",
        "  optimizer.zero_grad()\n",
        "  loss.backward()\n",
        "  optimizer.step()\n",
        "  with torch.no_grad():\n",
        "    #test 는 fitting 이 아니므로 bias, mean 등 필요 x..? P, Q에 대해서도 필요 x?\n",
        "    hypothesis_test = torch.sum(P[items_test] * Q[users_test], dim=1) + mean + bias_item[items_test] + bias_user[users_test]\n",
        "    cost_test = F.mse_loss(hypothesis_test, ratings_test)\n",
        "\n",
        "  X.append(epoch)\n",
        "  #Y.append(cost.item()) #X ; Epoch, Y : Cost\n",
        "  Y.append(loss.item())\n",
        "  Y_Test.append(cost_test.item())\n",
        "\n",
        "  if epoch % 100 == 0:\n",
        "    print(\"epoch : {}, cost : {}\".format(epoch, cost.item()))"
      ],
      "execution_count": 100,
      "outputs": [
        {
          "output_type": "stream",
          "text": [
            "P : tensor([[ 0.8131, -0.5544, -0.4819,  ..., -1.5749, -1.8510,  0.4183],\n",
            "        [-0.1653, -0.5182,  0.1338,  ...,  1.6686, -1.1964, -1.2260],\n",
            "        [ 0.3102, -0.7297,  1.1516,  ..., -0.3724, -1.2724,  0.5957],\n",
            "        ...,\n",
            "        [-1.2130,  0.4231, -0.8449,  ..., -1.7515,  0.0272,  1.2075],\n",
            "        [-0.0344, -0.5236,  1.3242,  ..., -0.1310,  0.0769,  0.2382],\n",
            "        [-0.9658, -1.2344, -1.4603,  ..., -0.7738,  0.3726, -1.0590]],\n",
            "       requires_grad=True), P_Items : tensor([[-0.1653, -0.5182,  0.1338,  ...,  1.6686, -1.1964, -1.2260],\n",
            "        [ 0.3102, -0.7297,  1.1516,  ..., -0.3724, -1.2724,  0.5957],\n",
            "        [-0.1250,  0.6572,  1.5263,  ...,  2.0352,  0.4249, -0.1326],\n",
            "        ...,\n",
            "        [-2.1783,  0.6845,  0.8352,  ..., -0.4665, -0.7800, -0.4073],\n",
            "        [ 0.2396, -0.4068,  1.3971,  ...,  0.0697, -0.5945,  0.3960],\n",
            "        [ 1.2791,  1.6719, -0.3817,  ..., -0.3020,  1.2781,  0.9309]],\n",
            "       grad_fn=<IndexBackward>)\n",
            "epoch : 0, cost : 33.81050109863281\n",
            "epoch : 100, cost : 0.49585387110710144\n",
            "epoch : 200, cost : 0.44680067896842957\n",
            "epoch : 300, cost : 0.4378884732723236\n",
            "epoch : 400, cost : 0.4346916973590851\n",
            "epoch : 500, cost : 0.432833731174469\n",
            "epoch : 600, cost : 0.4318971633911133\n",
            "epoch : 700, cost : 0.43145817518234253\n",
            "epoch : 800, cost : 0.43123239278793335\n",
            "epoch : 900, cost : 0.43109115958213806\n",
            "epoch : 1000, cost : 0.4309926927089691\n"
          ],
          "name": "stdout"
        }
      ]
    },
    {
      "cell_type": "code",
      "metadata": {
        "id": "gyrUNjtBYcQj",
        "outputId": "b91b1c6f-dcc7-4e65-bee2-08ce8fbfb750",
        "colab": {
          "base_uri": "https://localhost:8080/"
        }
      },
      "source": [
        "#Test\n",
        "\n",
        "torch.sum(P[2] * Q[1]) \n",
        "#실제점수 3점\n",
        "#rank = 10 일때, 1번 usr가 2번 영화에 3.2523로 예측\n",
        "#rank = 50 일때, 1번 usr가 2번 영화에 2.8481로 예측 ~> 오히려 어긋나는듯 ??\n",
        "#rank = 30 일때, 1번 usr가 2번 영화에 3.2148로 예측\n",
        "#rank = 40 일때, 2.7382\n",
        "#rank = 60 일때, 2.8733 ... 아마 rank가 더 커지면 더 근사할것 \n",
        "#rank = 30, lambda 1, 2 = 0.0001 ~> 3.0417\n",
        "#rank = 30, lambda 1, 2 = 0.00001 ~> 2.9615 (더 안좋아짐)\n",
        "#rank = 30, lambda 1, 2 = 0.0002 ~> 3.1342 (안 좋음) 근데 plot 은 오히려 더 근사..?"
      ],
      "execution_count": 101,
      "outputs": [
        {
          "output_type": "execute_result",
          "data": {
            "text/plain": [
              "tensor(0.4080, grad_fn=<SumBackward0>)"
            ]
          },
          "metadata": {
            "tags": []
          },
          "execution_count": 101
        }
      ]
    },
    {
      "cell_type": "code",
      "metadata": {
        "id": "NzQPO5iLot6x",
        "outputId": "32e032e2-d5ad-4e88-ca08-07828218a80a",
        "colab": {
          "base_uri": "https://localhost:8080/",
          "height": 279
        }
      },
      "source": [
        "#Plot Show\n",
        "\n",
        "plt.ylabel(\"MSE\")\n",
        "plt.xlabel(\"EPOCH\")\n",
        "plt.plot(X, Y, label='train')\n",
        "plt.plot(X, Y_Test, label='test')\n",
        "plt.legend()\n",
        "\n",
        "plt.show()"
      ],
      "execution_count": 102,
      "outputs": [
        {
          "output_type": "display_data",
          "data": {
            "image/png": "[encoded data removed]",
            "text/plain": [
              "<Figure size 432x288 with 1 Axes>"
            ]
          },
          "metadata": {
            "tags": [],
            "needs_background": "light"
          }
        }
      ]
    }
  ]
}