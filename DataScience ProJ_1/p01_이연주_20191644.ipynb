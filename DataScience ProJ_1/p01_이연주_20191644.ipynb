{
  "nbformat": 4,
  "nbformat_minor": 0,
  "metadata": {
    "colab": {
      "name": "p01_이연주_20191644.ipynb",
      "provenance": [],
      "collapsed_sections": []
    },
    "kernelspec": {
      "name": "python3",
      "display_name": "Python 3"
    }
  },
  "cells": [
    {
      "cell_type": "code",
      "metadata": {
        "id": "WNivhtKRT52l"
      },
      "source": [
        "import pandas as pd\n",
        "import torch\n",
        "import torch.nn.functional as F\n",
        "import numpy as np"
      ],
      "execution_count": 36,
      "outputs": []
    },
    {
      "cell_type": "code",
      "metadata": {
        "id": "nbrJetHoYV5y",
        "outputId": "9cf908b7-c7f6-497c-b78d-4d9dec55ebd6",
        "colab": {
          "base_uri": "https://localhost:8080/",
          "height": 419
        }
      },
      "source": [
        "#Task 1.csv 파일을 다운로드 받고 pandas를 이용하여 불러오기\n",
        "\n",
        "#Task 1-1. 데이터 불러오기\n",
        "data = pd.read_csv(\"p01_input.csv\",encoding = 'cp949') #파일불러오기\n",
        "\n",
        "#Task 1-2. 데이터 중에서 키와 몸무게 데이터만 골라내기\n",
        "dataSel = data.loc[:, ['ID', '몸무게', '키']] #dataSel \n",
        "\n",
        "#data\n",
        "dataSel"
      ],
      "execution_count": 37,
      "outputs": [
        {
          "output_type": "execute_result",
          "data": {
            "text/html": [
              "<div>\n",
              "<style scoped>\n",
              "    .dataframe tbody tr th:only-of-type {\n",
              "        vertical-align: middle;\n",
              "    }\n",
              "\n",
              "    .dataframe tbody tr th {\n",
              "        vertical-align: top;\n",
              "    }\n",
              "\n",
              "    .dataframe thead th {\n",
              "        text-align: right;\n",
              "    }\n",
              "</style>\n",
              "<table border=\"1\" class=\"dataframe\">\n",
              "  <thead>\n",
              "    <tr style=\"text-align: right;\">\n",
              "      <th></th>\n",
              "      <th>ID</th>\n",
              "      <th>몸무게</th>\n",
              "      <th>키</th>\n",
              "    </tr>\n",
              "  </thead>\n",
              "  <tbody>\n",
              "    <tr>\n",
              "      <th>0</th>\n",
              "      <td>Aa011남10101</td>\n",
              "      <td>27.3</td>\n",
              "      <td>125.8</td>\n",
              "    </tr>\n",
              "    <tr>\n",
              "      <th>1</th>\n",
              "      <td>Aa011남10102</td>\n",
              "      <td>25.4</td>\n",
              "      <td>124.3</td>\n",
              "    </tr>\n",
              "    <tr>\n",
              "      <th>2</th>\n",
              "      <td>Aa011남10103</td>\n",
              "      <td>23.5</td>\n",
              "      <td>119.2</td>\n",
              "    </tr>\n",
              "    <tr>\n",
              "      <th>3</th>\n",
              "      <td>Aa011남10104</td>\n",
              "      <td>20.0</td>\n",
              "      <td>115.0</td>\n",
              "    </tr>\n",
              "    <tr>\n",
              "      <th>4</th>\n",
              "      <td>Aa011남10105</td>\n",
              "      <td>33.5</td>\n",
              "      <td>120.0</td>\n",
              "    </tr>\n",
              "    <tr>\n",
              "      <th>...</th>\n",
              "      <td>...</td>\n",
              "      <td>...</td>\n",
              "      <td>...</td>\n",
              "    </tr>\n",
              "    <tr>\n",
              "      <th>9681</th>\n",
              "      <td>Ac343남30106</td>\n",
              "      <td>50.4</td>\n",
              "      <td>176.1</td>\n",
              "    </tr>\n",
              "    <tr>\n",
              "      <th>9682</th>\n",
              "      <td>Ac343남30107</td>\n",
              "      <td>88.8</td>\n",
              "      <td>174.1</td>\n",
              "    </tr>\n",
              "    <tr>\n",
              "      <th>9683</th>\n",
              "      <td>Ac343남30108</td>\n",
              "      <td>63.2</td>\n",
              "      <td>169.5</td>\n",
              "    </tr>\n",
              "    <tr>\n",
              "      <th>9684</th>\n",
              "      <td>Ac343여30101</td>\n",
              "      <td>52.9</td>\n",
              "      <td>159.2</td>\n",
              "    </tr>\n",
              "    <tr>\n",
              "      <th>9685</th>\n",
              "      <td>Ac343여30102</td>\n",
              "      <td>67.7</td>\n",
              "      <td>162.0</td>\n",
              "    </tr>\n",
              "  </tbody>\n",
              "</table>\n",
              "<p>9686 rows × 3 columns</p>\n",
              "</div>"
            ],
            "text/plain": [
              "               ID   몸무게      키\n",
              "0     Aa011남10101  27.3  125.8\n",
              "1     Aa011남10102  25.4  124.3\n",
              "2     Aa011남10103  23.5  119.2\n",
              "3     Aa011남10104  20.0  115.0\n",
              "4     Aa011남10105  33.5  120.0\n",
              "...           ...   ...    ...\n",
              "9681  Ac343남30106  50.4  176.1\n",
              "9682  Ac343남30107  88.8  174.1\n",
              "9683  Ac343남30108  63.2  169.5\n",
              "9684  Ac343여30101  52.9  159.2\n",
              "9685  Ac343여30102  67.7  162.0\n",
              "\n",
              "[9686 rows x 3 columns]"
            ]
          },
          "metadata": {
            "tags": []
          },
          "execution_count": 37
        }
      ]
    },
    {
      "cell_type": "code",
      "metadata": {
        "id": "vbShyH8LaLCy",
        "outputId": "58aca049-bcbd-49cc-fbbf-f55a3240dee9",
        "colab": {
          "base_uri": "https://localhost:8080/"
        }
      },
      "source": [
        "#Task2. 학생들의 평균 키와 평균 몸무게 구하기\n",
        "\n",
        "averH = dataSel['키'].mean()\n",
        "averW = dataSel['몸무게'].mean()\n",
        "\n",
        "print(\"평균 키 : {}, 평균 몸무게 : {}\".format(averH, averW))"
      ],
      "execution_count": 38,
      "outputs": [
        {
          "output_type": "stream",
          "text": [
            "평균 키 : 154.56444352674015, 평균 몸무게 : 50.20759140673406\n"
          ],
          "name": "stdout"
        }
      ]
    },
    {
      "cell_type": "code",
      "metadata": {
        "id": "pyvPFjHIizt4",
        "outputId": "c0031af0-69fb-4d9c-d1d6-814b4b8be272",
        "colab": {
          "base_uri": "https://localhost:8080/"
        }
      },
      "source": [
        "#Task3. 키와 몸무게 사이의 상관관계 (Pearson Correlation Coefficient) 구하기\n",
        "\n",
        "dataSelPivot = data.pivot_table(index='ID', values=['키', '몸무게'])\n",
        "#dataSelPivot\n",
        "\n",
        "def pearson_similarity(u1, u2, aver1, aver2):#평균으로 뺀 후에 cos\n",
        "    u1_c = u1 - aver1\n",
        "    u2_c = u2 - aver2\n",
        "    denom = np.sqrt(np.sum(u1_c ** 2) * np.sum(u2_c ** 2))\n",
        "    if denom != 0:\n",
        "        return np.sum((u1_c)*(u2_c))/denom\n",
        "    else:\n",
        "        return 0\n",
        "\n",
        "p = pearson_similarity(dataSelPivot.loc[:, '키'], dataSelPivot.loc[:, '몸무게'], averH, averW)\n",
        "p"
      ],
      "execution_count": 39,
      "outputs": [
        {
          "output_type": "execute_result",
          "data": {
            "text/plain": [
              "0.8489748450632726"
            ]
          },
          "metadata": {
            "tags": []
          },
          "execution_count": 39
        }
      ]
    },
    {
      "cell_type": "code",
      "metadata": {
        "id": "xE1S0-1EG0Ib",
        "outputId": "f17aefe2-604e-45ef-bff8-6ad847a6e045",
        "colab": {
          "base_uri": "https://localhost:8080/"
        }
      },
      "source": [
        "#Task4. Linear Regression을 사용하여 키와 몸무게 사이의 선형관계를 찾기\n",
        "#(= 직선의 방정식 구하기: y= wx + b 에서 w와 b값 구하기)\n",
        "\n",
        "dataNa = dataSel.dropna(subset=['몸무게']) #Nan값 제외\n",
        "#dataNa\n",
        "x = torch.FloatTensor([dataNa['키']]) #키(=x)\n",
        "y = torch.FloatTensor([dataNa['몸무게']]) #몸무게(=y)\n",
        "\n",
        "print(\"x = {} \\ny = {}\".format(x, y))"
      ],
      "execution_count": 40,
      "outputs": [
        {
          "output_type": "stream",
          "text": [
            "x = tensor([[125.8000, 124.3000, 119.2000,  ..., 169.5000, 159.2000, 162.0000]]) \n",
            "y = tensor([[27.3000, 25.4000, 23.5000,  ..., 63.2000, 52.9000, 67.7000]])\n"
          ],
          "name": "stdout"
        }
      ]
    },
    {
      "cell_type": "code",
      "metadata": {
        "id": "ZfOee_hHTeYe",
        "outputId": "e1f2b363-d49b-404d-9060-1cf652dee899",
        "colab": {
          "base_uri": "https://localhost:8080/"
        }
      },
      "source": [
        "W = torch.zeros(1,  1)\n",
        "b = torch.zeros(1, 1)\n",
        "\n",
        "#Task 4-2. 경사하강법으로 비용을 최소로 만들도록 학습하기 (torch.optim 사용하지 말고 직접 구현해보기)\n",
        "#W,b에 대한 비율을 같게 주면 cost는 161-159에서 더이상 내려가지 않는다.\n",
        "#lrb를 더 높이게 되면 Nan\n",
        "#lrW를 더 낮추면 Nan\n",
        "lrW = 0.00001\n",
        "lrb = 0.75\n",
        "\n",
        "for epoch in range(3001):\n",
        "  #Task 4-1. 가설, 비용 설정하기\n",
        "  W.requires_grad_(True)\n",
        "  b.requires_grad_(True)\n",
        "\n",
        "  hypothesis = torch.mm(W, x) + b #가설\n",
        "  cost = torch.mean((hypothesis - y) ** 2) #비용\n",
        "\n",
        "  if (epoch % 100 == 0): print(epoch, cost.item())\n",
        "  cost.backward()\n",
        "\n",
        "  with torch.no_grad() as grd:\n",
        "    W = W - lrW * W.grad\n",
        "    b = b - lrb * b.grad"
      ],
      "execution_count": 41,
      "outputs": [
        {
          "output_type": "stream",
          "text": [
            "0 2812.3603515625\n",
            "100 191.77764892578125\n",
            "200 112.05455780029297\n",
            "300 93.94926452636719\n",
            "400 86.62779998779297\n",
            "500 83.57913208007812\n",
            "600 82.30830383300781\n",
            "700 81.7785415649414\n",
            "800 81.55769348144531\n",
            "900 81.46564483642578\n",
            "1000 81.42726135253906\n",
            "1100 81.41126251220703\n",
            "1200 81.40459442138672\n",
            "1300 81.40181732177734\n",
            "1400 81.40065002441406\n",
            "1500 81.40017700195312\n",
            "1600 81.39997100830078\n",
            "1700 81.39989471435547\n",
            "1800 81.39985656738281\n",
            "1900 81.39983367919922\n",
            "2000 81.39983367919922\n",
            "2100 81.39982604980469\n",
            "2200 81.39981842041016\n",
            "2300 81.39982604980469\n",
            "2400 81.39982604980469\n",
            "2500 81.39982604980469\n",
            "2600 81.39981842041016\n",
            "2700 81.39982604980469\n",
            "2800 81.39981842041016\n",
            "2900 81.39981842041016\n",
            "3000 81.39981842041016\n"
          ],
          "name": "stdout"
        }
      ]
    },
    {
      "cell_type": "code",
      "metadata": {
        "id": "t3uSYKngaXAR",
        "outputId": "4074b367-1e6b-48a9-cb6e-2827b983f867",
        "colab": {
          "base_uri": "https://localhost:8080/",
          "height": 606
        }
      },
      "source": [
        "#시각화\n",
        "#Task5. Matplotlib을 사용하여 좌표평면상에 입력값(키, 몸무게)과 구한 직선을 그려보기\n",
        "\n",
        "import matplotlib.pyplot as plt\n",
        "W.requires_grad_(False)\n",
        "b.requires_grad_(False)\n",
        "\n",
        "\n",
        "#Task 5-1. 입력값(키, 몸무게)를 산포도로 그리기 (x축=키, y축=몸무게)\n",
        "plt.figure(figsize=(10, 10))\n",
        "plt.scatter(x, y, c = 'black', label = 'Trainingdata') #training data\n",
        "plt.ylabel(\"WEIGHT\")\n",
        "plt.xlabel(\"HEIGHT\")\n",
        "\n",
        "#Task 5-2. w와 b값을 이용하여 직선 그리기 (산포도와 일치하는지 확인하여 학습이 잘 되었는지 확인하기 위함)\n",
        "Y = torch.mm(W, x) + b\n",
        "plt.plot(x[0], Y[0], c='#ff0000', label = 'Fitting line') #line\n",
        "\n",
        "plt.legend()\n",
        "plt.show()"
      ],
      "execution_count": 42,
      "outputs": [
        {
          "output_type": "display_data",
          "data": {
            "image/png": "[encoded data removed]",
            "text/plain": [
              "<Figure size 720x720 with 1 Axes>"
            ]
          },
          "metadata": {
            "tags": [],
            "needs_background": "light"
          }
        }
      ]
    }
  ]
}